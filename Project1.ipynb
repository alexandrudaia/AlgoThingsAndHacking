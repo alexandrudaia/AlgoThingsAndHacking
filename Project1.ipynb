{
 "cells": [
  {
   "cell_type": "code",
   "execution_count": 5,
   "metadata": {
    "collapsed": false
   },
   "outputs": [],
   "source": [
    "EX_GRAPH0={0:set([1,2]),1:set(),2:set()}\n"
   ]
  },
  {
   "cell_type": "code",
   "execution_count": 6,
   "metadata": {
    "collapsed": false
   },
   "outputs": [
    {
     "data": {
      "text/plain": [
       "{0: {1, 2}, 1: set(), 2: set()}"
      ]
     },
     "execution_count": 6,
     "metadata": {},
     "output_type": "execute_result"
    }
   ],
   "source": [
    "EX_GRAPH0"
   ]
  },
  {
   "cell_type": "code",
   "execution_count": 12,
   "metadata": {
    "collapsed": false
   },
   "outputs": [],
   "source": [
    "EX_GRAPH1={\n",
    "    \n",
    "    0:set([1,4,5]),\n",
    "    1:set([2,6]),\n",
    "    2:set([3]),\n",
    "    3:set([0]),\n",
    "    4:set([1]),\n",
    "    5:set([2]),\n",
    "    6:set()\n",
    "    \n",
    "}"
   ]
  },
  {
   "cell_type": "code",
   "execution_count": 13,
   "metadata": {
    "collapsed": false
   },
   "outputs": [
    {
     "data": {
      "text/plain": [
       "{0: {1, 4, 5}, 1: {2, 6}, 2: {3}, 3: {0}, 4: {1}, 5: {2}, 6: set()}"
      ]
     },
     "execution_count": 13,
     "metadata": {},
     "output_type": "execute_result"
    }
   ],
   "source": [
    "EX_GRAPH1"
   ]
  },
  {
   "cell_type": "code",
   "execution_count": 18,
   "metadata": {
    "collapsed": false
   },
   "outputs": [],
   "source": [
    "EX_GRAPH2={\n",
    "    0:set([1,4,5]),\n",
    "    1:set([2,6]),\n",
    "    2:set([3,7]),\n",
    "    3:set([7]),\n",
    "    4:set([1]),\n",
    "    5:set([2]),\n",
    "    6:set(),\n",
    "    7:set([3]),\n",
    "    8:set([1,2]),\n",
    "    9:set([0,4,5,6,7,3])\n",
    "}"
   ]
  },
  {
   "cell_type": "code",
   "execution_count": 19,
   "metadata": {
    "collapsed": false
   },
   "outputs": [
    {
     "data": {
      "text/plain": [
       "{0: {1, 4, 5},\n",
       " 1: {2, 6},\n",
       " 2: {3, 7},\n",
       " 3: {7},\n",
       " 4: {1},\n",
       " 5: {2},\n",
       " 6: set(),\n",
       " 7: {3},\n",
       " 8: {1, 2},\n",
       " 9: {0, 3, 4, 5, 6, 7}}"
      ]
     },
     "execution_count": 19,
     "metadata": {},
     "output_type": "execute_result"
    }
   ],
   "source": [
    "EX_GRAPH2"
   ]
  },
  {
   "cell_type": "code",
   "execution_count": 42,
   "metadata": {
    "collapsed": false
   },
   "outputs": [],
   "source": [
    "def  make_complete_graph(num_nodes):\n",
    "    complete_graph={}\n",
    "    for  node in range(num_nodes):\n",
    "        complete_graph[node]=set(range(num_nodes))-{node}\n",
    "    return complete_graph\n",
    "        "
   ]
  },
  {
   "cell_type": "code",
   "execution_count": 41,
   "metadata": {
    "collapsed": false
   },
   "outputs": [
    {
     "data": {
      "text/plain": [
       "{0: {1, 2}, 1: {0, 2}, 2: {0, 1}}"
      ]
     },
     "execution_count": 41,
     "metadata": {},
     "output_type": "execute_result"
    }
   ],
   "source": [
    "make_complete_graph(3)"
   ]
  },
  {
   "cell_type": "code",
   "execution_count": 26,
   "metadata": {
    "collapsed": false
   },
   "outputs": [
    {
     "data": {
      "text/plain": [
       "{1, 2, 3, 4, 5, 6}"
      ]
     },
     "execution_count": 26,
     "metadata": {},
     "output_type": "execute_result"
    }
   ],
   "source": [
    "set(range(7))-{0}"
   ]
  }
 ],
 "metadata": {
  "kernelspec": {
   "display_name": "Python 3",
   "language": "python",
   "name": "python3"
  },
  "language_info": {
   "codemirror_mode": {
    "name": "ipython",
    "version": 3
   },
   "file_extension": ".py",
   "mimetype": "text/x-python",
   "name": "python",
   "nbconvert_exporter": "python",
   "pygments_lexer": "ipython3",
   "version": "3.5.2"
  }
 },
 "nbformat": 4,
 "nbformat_minor": 2
}
