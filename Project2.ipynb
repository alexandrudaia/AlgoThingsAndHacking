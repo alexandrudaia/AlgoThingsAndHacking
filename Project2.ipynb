{
 "cells": [
  {
   "cell_type": "code",
   "execution_count": 1,
   "metadata": {
    "collapsed": true
   },
   "outputs": [],
   "source": [
    "import networkx"
   ]
  },
  {
   "cell_type": "markdown",
   "metadata": {},
   "source": [
    "<h1 align=\"center\">BFS ALGHORITM  TO  MEASURE  DISTANCE  AMMONG STARTING  NODE IN TERRORIST  NETWORK</h1> "
   ]
  },
  {
   "cell_type": "code",
   "execution_count": 3,
   "metadata": {},
   "outputs": [
    {
     "data": {
      "image/png": "[encoded data removed]",
      "text/plain": [
       "<matplotlib.figure.Figure at 0x7f2779a99be0>"
      ]
     },
     "metadata": {},
     "output_type": "display_data"
    }
   ],
   "source": [
    "import networkx\n",
    "graph={0:set([1,3,4]),\n",
    "      1:set([0,2,3]),\n",
    "      2:set([1,4]),\n",
    "      3:set([0,1]),\n",
    "      4:set([0,2]),\n",
    "      5:set([4])\n",
    "     }\n",
    "g = networkx.Graph()\n",
    "import  matplotlib \n",
    "import warnings\n",
    "warnings.filterwarnings('ignore')\n",
    "%matplotlib inline\n",
    "g.add_nodes_from(list(graph.keys()))\n",
    "for  vertex  in graph:\n",
    " \n",
    "    for  edge in list(set(graph[vertex])):\n",
    "     \n",
    "        g.add_edge(vertex,edge)\n",
    "\n",
    " \n",
    "networkx.draw(g,with_labels = True)"
   ]
  },
  {
   "cell_type": "code",
   "execution_count": 83,
   "metadata": {
    "collapsed": true
   },
   "outputs": [],
   "source": [
    "def compute_in_degrees(digraph):\n",
    "    in_degrees={}\n",
    "    for   node in  digraph.keys():\n",
    "        degree=0\n",
    "        #compute    in degreee for particular node\n",
    "        for out_degree in digraph.values():\n",
    "            for element in out_degree:\n",
    "                if element==node:\n",
    "                    degree+=1\n",
    "        in_degrees[node]=degree\n",
    "    return in_degrees"
   ]
  },
  {
   "cell_type": "code",
   "execution_count": 204,
   "metadata": {
    "collapsed": true
   },
   "outputs": [],
   "source": [
    "from collections import deque"
   ]
  },
  {
   "cell_type": "code",
   "execution_count": 18,
   "metadata": {
    "collapsed": true
   },
   "outputs": [],
   "source": [
    "\n",
    "def bfs_visited(ugraph,start_node):\n",
    "    import  math\n",
    "    \"\"\"Takes the undirected graph ugraph and the node start_node \n",
    "    and returns the set consisting of all nodes that are visited by a breadth-first search that starts at start_node.\"\"\"\n",
    "    queue=[]\n",
    "    distances=[math.inf for node in ugraph.keys()]\n",
    "    i=start_node\n",
    "    distances[i]=0\n",
    "    queue.append(i)\n",
    "    visited=set([start_node])\n",
    "    while len(queue)!=0:\n",
    "        \n",
    " \n",
    "        j=queue[0]\n",
    "        queue.pop(0)\n",
    "        for edge in (ugraph[j]):\n",
    "           \n",
    " \n",
    "            if edge not in visited :\n",
    "                visited.add(edge)\n",
    "                if distances[j]!=math.inf:\n",
    "                    distances[edge]=distances[j]+1\n",
    "                queue.append(edge)\n",
    " \n",
    "                \n",
    "   \n",
    "    return  visited,distances"
   ]
  },
  {
   "cell_type": "code",
   "execution_count": 21,
   "metadata": {},
   "outputs": [
    {
     "data": {
      "text/plain": [
       "({0, 1, 2, 3, 4, 5}, [2, 3, 2, 3, 1, 0])"
      ]
     },
     "execution_count": 21,
     "metadata": {},
     "output_type": "execute_result"
    }
   ],
   "source": [
    "bfs_visited(graph,5)"
   ]
  },
  {
   "cell_type": "markdown",
   "metadata": {
    "collapsed": true
   },
   "source": [
    "<h1 align=\"center\">CC-VISITED ALGHORITM FOR  DETERMINING  CONNECTED  COMPONENTS OF  TERRORIST NETWORK</h1> "
   ]
  },
  {
   "cell_type": "raw",
   "metadata": {},
   "source": [
    "cc_visited(ugraph) - Takes the undirected graph ugraph and returns a list of sets, where each set consists of all the nodes (and nothing else) in a connected component, and there is exactly one set in the list for each connected component in ugraph and nothing else."
   ]
  },
  {
   "cell_type": "code",
   "execution_count": 26,
   "metadata": {
    "collapsed": true
   },
   "outputs": [],
   "source": [
    "terr_components={0:set([1,2]),\n",
    "                 1:set([0,2]),\n",
    "                 2:set([0,1]),\n",
    "                 3:set([4]),\n",
    "                 4:set([3]),\n",
    "                 5:set([])\n",
    "     }"
   ]
  },
  {
   "cell_type": "code",
   "execution_count": 23,
   "metadata": {},
   "outputs": [
    {
     "data": {
      "image/png": "[encoded data removed]",
      "text/plain": [
       "<matplotlib.figure.Figure at 0x7f2774731860>"
      ]
     },
     "metadata": {},
     "output_type": "display_data"
    }
   ],
   "source": [
    "g = networkx.Graph()\n",
    "import  matplotlib \n",
    " \n",
    "g.add_nodes_from(list(terr_components.keys()))\n",
    "for  vertex  in graph:\n",
    " \n",
    "    for  edge in list(set(terr_components[vertex])):\n",
    "     \n",
    "        g.add_edge(vertex,edge)\n",
    "\n",
    " \n",
    "networkx.draw(g,with_labels = True)"
   ]
  },
  {
   "cell_type": "code",
   "execution_count": 28,
   "metadata": {},
   "outputs": [],
   "source": [
    "def bfs_visited(ugraph,start_node):\n",
    "    import  math\n",
    "    \"\"\"Takes the undirected graph ugraph and the node start_node \n",
    "    and returns the set consisting of all nodes that are visited by a breadth-first search that starts at start_node.\"\"\"\n",
    "    queue=[]\n",
    "    distances=[math.inf for node in ugraph.keys()]\n",
    "    i=start_node\n",
    "    distances[i]=0\n",
    "    queue.append(i)\n",
    "    visited=set([start_node])\n",
    "    while len(queue)!=0:\n",
    "        \n",
    " \n",
    "        j=queue[0]\n",
    "        queue.pop(0)\n",
    "        for edge in (ugraph[j]):\n",
    "           \n",
    " \n",
    "            if edge not in visited :\n",
    "                visited.add(edge)\n",
    "                if distances[j]!=math.inf:\n",
    "                    distances[edge]=distances[j]+1\n",
    "                queue.append(edge)\n",
    " \n",
    "                \n",
    "   \n",
    "    return  visited\n",
    "import  random\n",
    "def cc_visited(ugraph):\n",
    "    remaining_nodes=list(ugraph.keys())\n",
    "    remaining=set(remaining_nodes)\n",
    "    connected=[]\n",
    "    while len(remaining) > 0:\n",
    "        node_i = random.sample(remaining, 1)[0]\n",
    "        current = bfs_visited(ugraph, node_i)\n",
    "        connected.append(current)\n",
    "        for node in current:\n",
    "            remaining.remove(node)\n",
    "    \n",
    " \n",
    "    return connected"
   ]
  },
  {
   "cell_type": "code",
   "execution_count": 29,
   "metadata": {},
   "outputs": [
    {
     "data": {
      "text/plain": [
       "[{5}, {3, 4}, {0, 1, 2}]"
      ]
     },
     "execution_count": 29,
     "metadata": {},
     "output_type": "execute_result"
    }
   ],
   "source": [
    "cc_visited(terr_components)"
   ]
  },
  {
   "cell_type": "markdown",
   "metadata": {},
   "source": [
    "<h1 align=\"center\">Largest Connected Component in Terrorist Network</h1> "
   ]
  },
  {
   "cell_type": "raw",
   "metadata": {},
   "source": [
    "largest_cc_size(ugraph) - Takes the undirected graph ugraph and returns the size (an integer) of the largest connected component in ugraph."
   ]
  },
  {
   "cell_type": "code",
   "execution_count": 39,
   "metadata": {
    "collapsed": true
   },
   "outputs": [],
   "source": [
    "import numpy  as np\n",
    "def largest_cc_size(ugraph):\n",
    "    connect_terr=cc_visited(terr_components)\n",
    "    return  np.max([len(terrorist_cell) for terrorist_cell in connect_terr])\n",
    "    "
   ]
  },
  {
   "cell_type": "code",
   "execution_count": 40,
   "metadata": {},
   "outputs": [
    {
     "data": {
      "text/plain": [
       "3"
      ]
     },
     "execution_count": 40,
     "metadata": {},
     "output_type": "execute_result"
    }
   ],
   "source": [
    " largest_cc_size(terr_components)"
   ]
  },
  {
   "cell_type": "markdown",
   "metadata": {},
   "source": [
    "<font color='blue'><h1 align=\"center\">Terrorist  Network Resilience .This  is the core module of  our  analysis</h1> \n",
    "</font>"
   ]
  },
  {
   "cell_type": "markdown",
   "metadata": {},
   "source": [
    "<font color='black'><h4 align=\"center\">In the Application component of this analysis, we will study the connectivity of Terrorist Networks. </h2>\n",
    "\n",
    "<h4 align=\"center\">In particular, we will subject a model of one particular network to random and targeted ATTACKS. These attacks correspond to disabling a sequence of Terrorists in the network and will be simulated by removing a sequence of nodes in the graph that corresponds to these Terrorists.</h2>\n",
    "\n",
    "<h4 align=\"center\">For this part of the  analysis  we  implemented a function that takes an terrorist network  and a list of individual terrorists  that will be attacked. We will remove these terrorists (and their connections) from the terrotist network one at a time and then measure the \"resilience\" of the network at each removal by computing the size of its largest remaining connected component.  \n",
    "\n",
    "<h4 align=\"center\">compute_resilience(ugraph, attack_order) - Takes the undirected terrorist network, a list of nodes attack_order and iterates through the nodes in attack_order. For each node in the list, the function removes the given node and its edges from the graph and then computes the size of the largest connected component for the resulting graph. The function should return a list whose k+1th entry is the size of the largest connected component in the graph after the removal of the first k nodes in attack_order. The first entry (indexed by zero) is the size of the largest connected component in the original graph.\n",
    "\n",
    "<h4 align=\"center\">The easiest method for implementing compute_resilience is to remove one node at a time and use largest_cc_size to compute the size of the largest connected component in the resulting graphs. This implementation has a running time of O(n(n+m)) where n is the number of nodes and m is the number of edges in the graph.</h2> \n",
    "</font>"
   ]
  },
  {
   "cell_type": "code",
   "execution_count": 43,
   "metadata": {
    "collapsed": true
   },
   "outputs": [],
   "source": [
    "def compute_resilience(ugraph, attack_order):\n",
    "  \n",
    "    sizes = []\n",
    "    remaining = ugraph.copy()\n",
    "    sizes.append(largest_cc_size(n))\n",
    "    \n",
    " \n",
    "    for node in attack_order:\n",
    "        remaining.pop(node)\n",
    "        for nodes in remaining:\n",
    "            remaining[nodes].discard(node)\n",
    "        sizes.append(largest_cc_size(remaining))\n",
    "    \n",
    " \n",
    "    return sizes"
   ]
  },
  {
   "cell_type": "code",
   "execution_count": null,
   "metadata": {
    "collapsed": true
   },
   "outputs": [],
   "source": []
  }
 ],
 "metadata": {
  "kernelspec": {
   "display_name": "Python 3",
   "language": "python",
   "name": "python3"
  },
  "language_info": {
   "codemirror_mode": {
    "name": "ipython",
    "version": 3
   },
   "file_extension": ".py",
   "mimetype": "text/x-python",
   "name": "python",
   "nbconvert_exporter": "python",
   "pygments_lexer": "ipython3",
   "version": "3.6.0"
  }
 },
 "nbformat": 4,
 "nbformat_minor": 2
}
