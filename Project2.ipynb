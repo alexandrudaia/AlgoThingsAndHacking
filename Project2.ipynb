{
 "cells": [
  {
   "cell_type": "code",
   "execution_count": 295,
   "metadata": {
    "collapsed": true
   },
   "outputs": [],
   "source": [
    "import networkx"
   ]
  },
  {
   "cell_type": "code",
   "execution_count": 326,
   "metadata": {},
   "outputs": [
    {
     "data": {
      "image/png": "[encoded data removed]",
      "text/plain": [
       "<matplotlib.figure.Figure at 0x7f6d7c012518>"
      ]
     },
     "metadata": {},
     "output_type": "display_data"
    }
   ],
   "source": [
    "import networkx\n",
    "graph={0:set([1,3,4]),\n",
    "      1:set([0,2,3]),\n",
    "      2:set([1,4]),\n",
    "      3:set([0,1]),\n",
    "      4:set([0,2]),\n",
    "      5:set([4])\n",
    "     }\n",
    "g = networkx.Graph()\n",
    "import  matplotlib \n",
    "import warnings\n",
    "warnings.filterwarnings('ignore')\n",
    "%matplotlib inline\n",
    "g.add_nodes_from(list(graph.keys()))\n",
    "for  vertex  in graph:\n",
    " \n",
    "    for  edge in list(set(graph[vertex])):\n",
    "     \n",
    "        g.add_edge(vertex,edge)\n",
    "\n",
    " \n",
    "networkx.draw(g,with_labels = True)"
   ]
  },
  {
   "cell_type": "code",
   "execution_count": 83,
   "metadata": {
    "collapsed": true
   },
   "outputs": [],
   "source": [
    "def compute_in_degrees(digraph):\n",
    "    in_degrees={}\n",
    "    for   node in  digraph.keys():\n",
    "        degree=0\n",
    "        #compute    in degreee for particular node\n",
    "        for out_degree in digraph.values():\n",
    "            for element in out_degree:\n",
    "                if element==node:\n",
    "                    degree+=1\n",
    "        in_degrees[node]=degree\n",
    "    return in_degrees"
   ]
  },
  {
   "cell_type": "code",
   "execution_count": 204,
   "metadata": {},
   "outputs": [],
   "source": [
    "from collections import deque"
   ]
  },
  {
   "cell_type": "code",
   "execution_count": 311,
   "metadata": {},
   "outputs": [],
   "source": [
    "\n",
    "def bfs_visited(ugraph,start_node):\n",
    "    import  math\n",
    "    \"\"\"Takes the undirected graph ugraph and the node start_node \n",
    "    and returns the set consisting of all nodes that are visited by a breadth-first search that starts at start_node.\"\"\"\n",
    "    queue=[]\n",
    "    distances=[math.inf for node in ugraph.keys()]\n",
    "    i=start_node\n",
    "    distances[i]=0\n",
    "    queue.append(i)\n",
    "    visited=set([start_node])\n",
    "    while len(queue)!=0:\n",
    "        \n",
    " \n",
    "        j=queue[0]\n",
    "        queue.pop(0)\n",
    "        for edge in (ugraph[j]):\n",
    "           \n",
    " \n",
    "            if edge not in visited :\n",
    "                visited.add(edge)\n",
    "                if distances[j]!=math.inf:\n",
    "                    distances[edge]=distances[j]+1\n",
    "                queue.append(edge)\n",
    " \n",
    "                \n",
    "   \n",
    "    return  visited,distances"
   ]
  },
  {
   "cell_type": "code",
   "execution_count": 319,
   "metadata": {},
   "outputs": [
    {
     "data": {
      "text/plain": [
       "({0, 1, 2, 3, 4, 5}, [2, 3, 2, 3, 1, 0])"
      ]
     },
     "execution_count": 319,
     "metadata": {},
     "output_type": "execute_result"
    }
   ],
   "source": [
    "bfs_visited(graph,5)"
   ]
  },
  {
   "cell_type": "code",
   "execution_count": 315,
   "metadata": {
    "collapsed": true
   },
   "outputs": [],
   "source": [
    "a=[1,7]"
   ]
  },
  {
   "cell_type": "code",
   "execution_count": 316,
   "metadata": {},
   "outputs": [
    {
     "data": {
      "text/plain": [
       "{0: {1, 3, 4}, 1: {0, 2, 3}, 2: {1, 4}, 3: {0, 1}, 4: {0, 2}, 5: {4}}"
      ]
     },
     "execution_count": 316,
     "metadata": {},
     "output_type": "execute_result"
    }
   ],
   "source": [
    "graph"
   ]
  },
  {
   "cell_type": "code",
   "execution_count": null,
   "metadata": {
    "collapsed": true
   },
   "outputs": [],
   "source": []
  }
 ],
 "metadata": {
  "kernelspec": {
   "display_name": "Python 3",
   "language": "python",
   "name": "python3"
  },
  "language_info": {
   "codemirror_mode": {
    "name": "ipython",
    "version": 3
   },
   "file_extension": ".py",
   "mimetype": "text/x-python",
   "name": "python",
   "nbconvert_exporter": "python",
   "pygments_lexer": "ipython3",
   "version": "3.6.0"
  }
 },
 "nbformat": 4,
 "nbformat_minor": 2
}
