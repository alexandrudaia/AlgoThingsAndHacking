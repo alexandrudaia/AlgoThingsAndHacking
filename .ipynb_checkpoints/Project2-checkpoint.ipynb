{
 "cells": [
  {
   "cell_type": "code",
   "execution_count": 1,
   "metadata": {
    "collapsed": true
   },
   "outputs": [],
   "source": [
    "import networkx"
   ]
  },
  {
   "cell_type": "markdown",
   "metadata": {},
   "source": [
    "<h1 align=\"center\">BFS ALGHORITM  TO  MEASURE  DISTANCE  AMMONG STARTING  NODE IN TERRORIST  NETWORK</h1> "
   ]
  },
  {
   "cell_type": "code",
   "execution_count": 1,
   "metadata": {},
   "outputs": [
    {
     "data": {
      "image/png": "[encoded data removed]",
      "text/plain": [
       "<matplotlib.figure.Figure at 0x7f3bdc320a20>"
      ]
     },
     "metadata": {},
     "output_type": "display_data"
    }
   ],
   "source": [
    "import networkx\n",
    "graph={0:set([1,3,4]),\n",
    "      1:set([0,2,3]),\n",
    "      2:set([1,4]),\n",
    "      3:set([0,1]),\n",
    "      4:set([0,2]),\n",
    "      5:set([4])\n",
    "     }\n",
    "g = networkx.Graph()\n",
    "import  matplotlib \n",
    "import warnings\n",
    "warnings.filterwarnings('ignore')\n",
    "%matplotlib inline\n",
    "g.add_nodes_from(list(graph.keys()))\n",
    "for  vertex  in graph:\n",
    " \n",
    "    for  edge in list(set(graph[vertex])):\n",
    "     \n",
    "        g.add_edge(vertex,edge)\n",
    "\n",
    " \n",
    "networkx.draw(g,with_labels = True)"
   ]
  },
  {
   "cell_type": "code",
   "execution_count": 2,
   "metadata": {
    "collapsed": true
   },
   "outputs": [],
   "source": [
    "def compute_in_degrees(digraph):\n",
    "    in_degrees={}\n",
    "    for   node in  digraph.keys():\n",
    "        degree=0\n",
    "        #compute    in degreee for particular node\n",
    "        for out_degree in digraph.values():\n",
    "            for element in out_degree:\n",
    "                if element==node:\n",
    "                    degree+=1\n",
    "        in_degrees[node]=degree\n",
    "    return in_degrees"
   ]
  },
  {
   "cell_type": "code",
   "execution_count": 3,
   "metadata": {
    "collapsed": true
   },
   "outputs": [],
   "source": [
    "from collections import deque"
   ]
  },
  {
   "cell_type": "code",
   "execution_count": 4,
   "metadata": {
    "collapsed": true
   },
   "outputs": [],
   "source": [
    "\n",
    "def bfs_visited(ugraph,start_node):\n",
    "    import  math\n",
    "    \"\"\"Takes the undirected graph ugraph and the node start_node \n",
    "    and returns the set consisting of all nodes that are visited by a breadth-first search that starts at start_node.\"\"\"\n",
    "    queue=[]\n",
    "    distances=[math.inf for node in ugraph.keys()]\n",
    "    i=start_node\n",
    "    distances[i]=0\n",
    "    queue.append(i)\n",
    "    visited=set([start_node])\n",
    "    while len(queue)!=0:\n",
    "        \n",
    " \n",
    "        j=queue[0]\n",
    "        queue.pop(0)\n",
    "        for edge in (ugraph[j]):\n",
    "           \n",
    " \n",
    "            if edge not in visited :\n",
    "                visited.add(edge)\n",
    "                if distances[j]!=math.inf:\n",
    "                    distances[edge]=distances[j]+1\n",
    "                queue.append(edge)\n",
    " \n",
    "                \n",
    "   \n",
    "    return  visited,distances"
   ]
  },
  {
   "cell_type": "code",
   "execution_count": 5,
   "metadata": {},
   "outputs": [
    {
     "data": {
      "text/plain": [
       "({0, 1, 2, 3, 4, 5}, [2, 3, 2, 3, 1, 0])"
      ]
     },
     "execution_count": 5,
     "metadata": {},
     "output_type": "execute_result"
    }
   ],
   "source": [
    "bfs_visited(graph,5)"
   ]
  },
  {
   "cell_type": "markdown",
   "metadata": {
    "collapsed": true
   },
   "source": [
    "<h1 align=\"center\">CC-VISITED ALGHORITM FOR  DETERMINING  CONNECTED  COMPONENTS OF  TERRORIST NETWORK</h1> "
   ]
  },
  {
   "cell_type": "raw",
   "metadata": {},
   "source": [
    "cc_visited(ugraph) - Takes the undirected graph ugraph and returns a list of sets, where each set consists of all the nodes (and nothing else) in a connected component, and there is exactly one set in the list for each connected component in ugraph and nothing else."
   ]
  },
  {
   "cell_type": "code",
   "execution_count": 6,
   "metadata": {
    "collapsed": true
   },
   "outputs": [],
   "source": [
    "terr_components={0:set([1,2]),\n",
    "                 1:set([0,2]),\n",
    "                 2:set([0,1]),\n",
    "                 3:set([4]),\n",
    "                 4:set([3]),\n",
    "                 5:set([])\n",
    "     }"
   ]
  },
  {
   "cell_type": "code",
   "execution_count": 7,
   "metadata": {},
   "outputs": [
    {
     "data": {
      "image/png": "[encoded data removed]",
      "text/plain": [
       "<matplotlib.figure.Figure at 0x7f3bb0c48fd0>"
      ]
     },
     "metadata": {},
     "output_type": "display_data"
    }
   ],
   "source": [
    "g = networkx.Graph()\n",
    "import  matplotlib \n",
    " \n",
    "g.add_nodes_from(list(terr_components.keys()))\n",
    "for  vertex  in graph:\n",
    " \n",
    "    for  edge in list(set(terr_components[vertex])):\n",
    "     \n",
    "        g.add_edge(vertex,edge)\n",
    "\n",
    " \n",
    "networkx.draw(g,with_labels = True)"
   ]
  },
  {
   "cell_type": "code",
   "execution_count": 8,
   "metadata": {
    "collapsed": true
   },
   "outputs": [],
   "source": [
    "def bfs_visited(ugraph,start_node):\n",
    "    import  math\n",
    "    \"\"\"Takes the undirected graph ugraph and the node start_node \n",
    "    and returns the set consisting of all nodes that are visited by a breadth-first search that starts at start_node.\"\"\"\n",
    "    queue=[]\n",
    "    distances=[math.inf for node in ugraph.keys()]\n",
    "    i=start_node\n",
    "    distances[i]=0\n",
    "    queue.append(i)\n",
    "    visited=set([start_node])\n",
    "    while len(queue)!=0:\n",
    "        \n",
    " \n",
    "        j=queue[0]\n",
    "        queue.pop(0)\n",
    "        for edge in (ugraph[j]):\n",
    "           \n",
    " \n",
    "            if edge not in visited :\n",
    "                visited.add(edge)\n",
    "                if distances[j]!=math.inf:\n",
    "                    distances[edge]=distances[j]+1\n",
    "                queue.append(edge)\n",
    " \n",
    "                \n",
    "   \n",
    "    return  visited\n",
    "import  random\n",
    "def cc_visited(ugraph):\n",
    "    remaining_nodes=list(ugraph.keys())\n",
    "    remaining=set(remaining_nodes)\n",
    "    connected=[]\n",
    "    while len(remaining) > 0:\n",
    "        node_i = random.sample(remaining, 1)[0]\n",
    "        current = bfs_visited(ugraph, node_i)\n",
    "        connected.append(current)\n",
    "        for node in current:\n",
    "            remaining.remove(node)\n",
    "    \n",
    " \n",
    "    return connected"
   ]
  },
  {
   "cell_type": "code",
   "execution_count": 9,
   "metadata": {},
   "outputs": [
    {
     "data": {
      "text/plain": [
       "[{0, 1, 2}, {3, 4}, {5}]"
      ]
     },
     "execution_count": 9,
     "metadata": {},
     "output_type": "execute_result"
    }
   ],
   "source": [
    "cc_visited(terr_components)"
   ]
  },
  {
   "cell_type": "markdown",
   "metadata": {},
   "source": [
    "<h1 align=\"center\">Largest Connected Component in Terrorist Network</h1> "
   ]
  },
  {
   "cell_type": "raw",
   "metadata": {},
   "source": [
    "largest_cc_size(ugraph) - Takes the undirected graph ugraph and returns the size (an integer) of the largest connected component in ugraph."
   ]
  },
  {
   "cell_type": "code",
   "execution_count": 10,
   "metadata": {
    "collapsed": true
   },
   "outputs": [],
   "source": [
    "import numpy  as np\n",
    "def largest_cc_size(ugraph):\n",
    "    connect_terr=cc_visited(terr_components)\n",
    "    return  np.max([len(terrorist_cell) for terrorist_cell in connect_terr])\n",
    "    "
   ]
  },
  {
   "cell_type": "code",
   "execution_count": 11,
   "metadata": {},
   "outputs": [
    {
     "data": {
      "text/plain": [
       "3"
      ]
     },
     "execution_count": 11,
     "metadata": {},
     "output_type": "execute_result"
    }
   ],
   "source": [
    " largest_cc_size(terr_components)"
   ]
  },
  {
   "cell_type": "markdown",
   "metadata": {},
   "source": [
    "<font color='blue'><h1 align=\"center\">Terrorist  Network Resilience .This  is the core module of  our  analysis</h1> \n",
    "</font>"
   ]
  },
  {
   "cell_type": "markdown",
   "metadata": {},
   "source": [
    "<font color='black'><h4 align=\"center\">In the Application component of this analysis, we will study the connectivity of Terrorist Networks. </h2>\n",
    "\n",
    "<h4 align=\"center\">In particular, we will subject a model of one particular network to random and targeted ATTACKS. These attacks correspond to disabling a sequence of Terrorists in the network and will be simulated by removing a sequence of nodes in the graph that corresponds to these Terrorists.</h2>\n",
    "\n",
    "<h4 align=\"center\">For this part of the  analysis  we  implemented a function that takes an terrorist network  and a list of individual terrorists  that will be attacked. We will remove these terrorists (and their connections) from the terrotist network one at a time and then measure the \"resilience\" of the network at each removal by computing the size of its largest remaining connected component.  \n",
    "\n",
    "<h4 align=\"center\">compute_resilience(ugraph, attack_order) - Takes the undirected terrorist network, a list of nodes attack_order and iterates through the nodes in attack_order. For each node in the list, the function removes the given node and its edges from the graph and then computes the size of the largest connected component for the resulting graph. The function should return a list whose k+1th entry is the size of the largest connected component in the graph after the removal of the first k nodes in attack_order. The first entry (indexed by zero) is the size of the largest connected component in the original graph.\n",
    "\n",
    "<h4 align=\"center\">The easiest method for implementing compute_resilience is to remove one node at a time and use largest_cc_size to compute the size of the largest connected component in the resulting graphs. This implementation has a running time of O(n(n+m)) where n is the number of nodes and m is the number of edges in the graph.</h2> \n",
    "</font>"
   ]
  },
  {
   "cell_type": "code",
   "execution_count": 12,
   "metadata": {
    "collapsed": true
   },
   "outputs": [],
   "source": [
    "def compute_resilience(ugraph, attack_order):\n",
    "  \n",
    "    sizes = []\n",
    "    remaining = ugraph.copy()\n",
    "    sizes.append(largest_cc_size(n))\n",
    "    \n",
    " \n",
    "    for node in attack_order:\n",
    "        remaining.pop(node)\n",
    "        for nodes in remaining:\n",
    "            remaining[nodes].discard(node)\n",
    "        sizes.append(largest_cc_size(remaining))\n",
    "    \n",
    " \n",
    "    return sizes"
   ]
  },
  {
   "cell_type": "markdown",
   "metadata": {
    "collapsed": true
   },
   "source": [
    "<font color='blue'><h1 align=\"center\">APPLICATION ANALYSIS</h1> \n",
    "</font>"
   ]
  },
  {
   "cell_type": "raw",
   "metadata": {},
   "source": [
    "In this Application, we will analyze the connectivity of a terrorist  network as it undergoes a anti-terror-attack. In particular, we will simulate an attack on this network in which an increasing number of terrorist are disabled. In computational terms, we will model the network by an undirected graph and repeatedly delete nodes from this graph. We will then measure the resilience of the graph in terms of the size of the largest remaining connected component as a function of the number of nodes deleted"
   ]
  },
  {
   "cell_type": "markdown",
   "metadata": {},
   "source": [
    "In this Application, we will compute the resilience of several types of undirected graphs.\n",
    " "
   ]
  },
  {
   "cell_type": "code",
   "execution_count": 16,
   "metadata": {
    "collapsed": true
   },
   "outputs": [],
   "source": [
    "#Terrorist  Network \n",
    "url='http://storage.googleapis.com/codeskulptor-alg/alg_rf7.txt'"
   ]
  },
  {
   "cell_type": "code",
   "execution_count": 17,
   "metadata": {},
   "outputs": [
    {
     "name": "stdout",
     "output_type": "stream",
     "text": [
      "elappsed time is better  then   codeskulptor  0.00021299500076565892\n"
     ]
    }
   ],
   "source": [
    "def load_graph(url):\n",
    "    answer_graph={}\n",
    "    import urllib.request\n",
    "    with urllib.request.urlopen(url) as url:\n",
    "        s = url.read()\n",
    "        data=s.decode('utf8')\n",
    "        data=data.split('\\r\\n')\n",
    "    for citation in range((len(data)-1)):\n",
    "        #print(citation)\n",
    "        \n",
    "        current_citation=data[citation].split(' ')\n",
    "        answer_graph[int(current_citation[0])]=set([int(elem )for elem in  current_citation[1:-1]])\n",
    "    return answer_graph\n",
    "\n",
    " \n",
    "\n",
    "import timeit\n",
    "\n",
    "start = timeit.timeit()\n",
    "answer_graph=load_graph(url)\n",
    "end = timeit.timeit()\n",
    "print(\"elappsed time is better  then   codeskulptor \",end-start)"
   ]
  },
  {
   "cell_type": "code",
   "execution_count": 21,
   "metadata": {},
   "outputs": [
    {
     "data": {
      "text/plain": [
       "1239"
      ]
     },
     "execution_count": 21,
     "metadata": {},
     "output_type": "execute_result"
    }
   ],
   "source": [
    "graph=answer_graph\n",
    "len(graph)"
   ]
  },
  {
   "cell_type": "code",
   "execution_count": 119,
   "metadata": {
    "collapsed": true
   },
   "outputs": [],
   "source": [
    "#1)er   graphs\n",
    "import itertools\n",
    "def ER(n, p):\n",
    "    graph = {key: set() for key in range(n)}\n",
    "    for i in range(n):\n",
    "        for j in range(n):\n",
    "            if i == j:\n",
    "                continue\n",
    "            if random.random() < p:\n",
    "                graph[i].add(j)\n",
    "                graph[j].add(i)\n",
    "\n",
    "    return graph"
   ]
  },
  {
   "cell_type": "code",
   "execution_count": 60,
   "metadata": {},
   "outputs": [
    {
     "data": {
      "image/png": "[encoded data removed]",
      "text/plain": [
       "<matplotlib.figure.Figure at 0x7f3bafbd6550>"
      ]
     },
     "metadata": {},
     "output_type": "display_data"
    }
   ],
   "source": [
    "er=ER(15,0.05)\n",
    "er\n",
    " \n",
    "g = networkx.Graph()\n",
    "import  matplotlib \n",
    " \n",
    "g.add_nodes_from(list(er.keys()))\n",
    "for  vertex  in er:\n",
    " \n",
    "    for  edge in list(set(er[vertex])):\n",
    "     \n",
    "        g.add_edge(vertex,edge)\n",
    "\n",
    " \n",
    "networkx.draw(g,with_labels = True)"
   ]
  },
  {
   "cell_type": "code",
   "execution_count": 41,
   "metadata": {},
   "outputs": [
    {
     "data": {
      "text/plain": [
       "array([ 0.,  1.,  2.])"
      ]
     },
     "execution_count": 41,
     "metadata": {},
     "output_type": "execute_result"
    }
   ],
   "source": [
    "ER[1]"
   ]
  },
  {
   "cell_type": "code",
   "execution_count": 27,
   "metadata": {
    "collapsed": true
   },
   "outputs": [],
   "source": [
    "def  make_complete_graph(num_nodes):\n",
    "    complete_graph={}\n",
    "    for  node in range(num_nodes):\n",
    "        complete_graph[node]=set(range(num_nodes))-{node}\n",
    "    return complete_graph"
   ]
  },
  {
   "cell_type": "code",
   "execution_count": 38,
   "metadata": {
    "scrolled": true
   },
   "outputs": [
    {
     "data": {
      "image/png": "[encoded data removed]",
      "text/plain": [
       "<matplotlib.figure.Figure at 0x7f3baff05860>"
      ]
     },
     "metadata": {},
     "output_type": "display_data"
    }
   ],
   "source": [
    "#2)complete graphs\n",
    "complete_graph=make_complete_graph(7)\n",
    "g = networkx.Graph()\n",
    "import  matplotlib \n",
    " \n",
    "g.add_nodes_from(list(complete_graph.keys()))\n",
    "for  vertex  in complete_graph:\n",
    " \n",
    "    for  edge in list(set(complete_graph[vertex])):\n",
    "     \n",
    "        g.add_edge(vertex,edge)\n",
    "\n",
    " \n",
    "networkx.draw(g,with_labels = True)"
   ]
  },
  {
   "cell_type": "code",
   "execution_count": 140,
   "metadata": {
    "collapsed": true
   },
   "outputs": [],
   "source": [
    "#3  upa    graphs\n",
    "def make_complete_graph(num_nodes):\n",
    "    \"\"\"Make undirected graph where each node is connected to all other nodes\"\"\"\n",
    "    def all_but(num_n, num_i):\n",
    "        \"\"\"Make a list of all numbers upto n excluding ith\"\"\"\n",
    "        return [num_x for num_x in range(num_n) if num_x != num_i]\n",
    "\n",
    "    return {num_i: set(all_but(num_nodes, num_i))\n",
    "            for num_i in range(num_nodes)}\n",
    "\n",
    "class UPATrial:\n",
    "    \"\"\"\n",
    "    Simple class to encapsulate optimizated trials for the UPA algorithm\n",
    "    Maintains a list of node numbers with multiple instance of each number.\n",
    "    The number of instances of each node number are\n",
    "    in the same proportion as the desired probabilities\n",
    "    Uses random.choice() to select a node number from this list for each trial.\n",
    "    \"\"\"\n",
    "\n",
    "    def __init__(self, num_nodes):\n",
    "        \"\"\"\n",
    "        Initialize a UPATrial object corresponding to a\n",
    "        complete graph with num_nodes nodes\n",
    "        Note the initial list of node numbers has num_nodes copies of\n",
    "        each node number\n",
    "        \"\"\"\n",
    "        self._num_nodes = num_nodes\n",
    "        self._node_numbers = [node for node in range(num_nodes) for dummy_idx in range(num_nodes)]\n",
    "\n",
    "    def run_trial(self, num_nodes):\n",
    "        \"\"\"\n",
    "        Conduct num_nodes trials using by applying random.choice()\n",
    "        to the list of node numbers\n",
    "        Updates the list of node numbers so that each node number\n",
    "        appears in correct ratio\n",
    "        Returns:\n",
    "        Set of nodes\n",
    "        \"\"\"\n",
    "\n",
    "        # compute the neighbors for the newly-created node\n",
    "        new_node_neighbors = set()\n",
    "        for _ in range(num_nodes):\n",
    "            new_node_neighbors.add(random.choice(self._node_numbers))\n",
    "\n",
    "        # update the list of node numbers so that each node number\n",
    "        # appears in the correct ratio\n",
    "        self._node_numbers.append(self._num_nodes)\n",
    "        for dummy_idx in range(len(new_node_neighbors)):\n",
    "            self._node_numbers.append(self._num_nodes)\n",
    "        self._node_numbers.extend(list(new_node_neighbors))\n",
    "\n",
    "        #update the number of nodes\n",
    "        self._num_nodes += 1\n",
    "        return new_node_neighbors\n",
    "def upa(n, m):\n",
    "    graph = make_complete_graph(m)\n",
    "    upa = UPATrial(m)\n",
    "    for i in range(m, n):\n",
    "        neighbors = upa.run_trial(m)\n",
    "        graph[i] = neighbors\n",
    "        for neighbor in neighbors:\n",
    "            graph[neighbor].add(i)\n",
    "    return graph"
   ]
  },
  {
   "cell_type": "markdown",
   "metadata": {},
   "source": [
    " <font color='blue'><h2 align=\"center\">    Question 1  \n",
    "\n",
    "To begin our analysis, we will examine the resilience of the terrotist network under an attack in\n",
    " which terrorist are chosen at random. \n",
    "We will then compare the resilience of the network to the resilience of ER and UPA graphs of similar size.</h2> \n",
    "</font>\n"
   ]
  },
  {
   "cell_type": "code",
   "execution_count": null,
   "metadata": {
    "collapsed": true
   },
   "outputs": [],
   "source": [
    "To begin, we should determine the probability p such that the ER graph computed using this edge probability has\n",
    "approximately the same number of edges as the terrorist  network. (TERRORIST  NETWORK  HAS 3074 CONNECTIONS)\n",
    "(the choice for p should be consistent with considering each edge in the undirected graph exactly once, not twice.)\n",
    "\n",
    "Likewise, WE should compute an integer m such that the number of edges in the UPA graph is close to the number of\n",
    "edges in the terroist network. Remember that all three graphs being analyzed in this Application \n",
    "should have the same number of nodes and approximately the same number of edges."
   ]
  },
  {
   "cell_type": "code",
   "execution_count": null,
   "metadata": {
    "collapsed": true
   },
   "outputs": [],
   "source": [
    "DPA algorithm adds m edges to the graph, a good choice for m is an integer that is close to the average degree of \n",
    "terrorist network"
   ]
  },
  {
   "cell_type": "code",
   "execution_count": 64,
   "metadata": {},
   "outputs": [
    {
     "name": "stdout",
     "output_type": "stream",
     "text": [
      "1239\n"
     ]
    }
   ],
   "source": [
    "n=len(graph)\n",
    "print(n)"
   ]
  },
  {
   "cell_type": "code",
   "execution_count": 92,
   "metadata": {},
   "outputs": [
    {
     "data": {
      "text/plain": [
       "3047.0"
      ]
     },
     "execution_count": 92,
     "metadata": {},
     "output_type": "execute_result"
    }
   ],
   "source": [
    " "
   ]
  },
  {
   "cell_type": "code",
   "execution_count": 81,
   "metadata": {},
   "outputs": [
    {
     "name": "stdout",
     "output_type": "stream",
     "text": [
      "Average  of terrorist network  degrees  is  : 4.9184826473\n"
     ]
    },
    {
     "data": {
      "image/png": "[encoded data removed]",
      "text/plain": [
       "<matplotlib.figure.Figure at 0x7f3bafe31e10>"
      ]
     },
     "metadata": {},
     "output_type": "display_data"
    }
   ],
   "source": [
    "#determining mean  of   edge degree\n",
    "list(graph.values())[0:3]\n",
    "connections=list(graph.values())\n",
    "degrees=[len(conn) for conn  in connections]\n",
    "import matplotlib  as plt\n",
    "from matplotlib import pyplot as plt\n",
    "%matplotlib inline\n",
    "plt.hist(degrees)\n",
    "print(\"Average  of terrorist network  degrees  is  :\",np.mean(degrees))"
   ]
  },
  {
   "cell_type": "code",
   "execution_count": null,
   "metadata": {
    "collapsed": true
   },
   "outputs": [],
   "source": [
    "Next, weshould write a function random_order that takes a graph and returns a list of the nodes in the graph in some\n",
    "random order. \n",
    "Then, for each of the three graphs (computer network, ER, UPA), compute a random attack order using random_order\n",
    "and use this attack order in compute_resilience to compute the resilience of the graph."
   ]
  },
  {
   "cell_type": "code",
   "execution_count": 87,
   "metadata": {},
   "outputs": [],
   "source": [
    "def  random_order(graph,num_nodes):\n",
    "    return np.random.choice(list(graph.values()),num_nodes)\n",
    "    "
   ]
  },
  {
   "cell_type": "code",
   "execution_count": 156,
   "metadata": {},
   "outputs": [],
   "source": [
    "er = ER(1347,0.0039)"
   ]
  },
  {
   "cell_type": "code",
   "execution_count": 157,
   "metadata": {},
   "outputs": [
    {
     "data": {
      "text/plain": [
       "14450"
      ]
     },
     "execution_count": 157,
     "metadata": {},
     "output_type": "execute_result"
    }
   ],
   "source": [
    "edges=(list(er.values()))\n",
    "np.sum([len(edge) for edge in edges])"
   ]
  },
  {
   "cell_type": "code",
   "execution_count": 148,
   "metadata": {},
   "outputs": [],
   "source": [
    "up=upa(1347,2)"
   ]
  },
  {
   "cell_type": "code",
   "execution_count": 149,
   "metadata": {},
   "outputs": [
    {
     "data": {
      "text/plain": [
       "5372"
      ]
     },
     "execution_count": 149,
     "metadata": {},
     "output_type": "execute_result"
    }
   ],
   "source": [
    "edges=(list(up.values()))\n",
    "np.sum([len(edge) for edge in edges])"
   ]
  },
  {
   "cell_type": "code",
   "execution_count": null,
   "metadata": {
    "collapsed": true
   },
   "outputs": [],
   "source": []
  }
 ],
 "metadata": {
  "kernelspec": {
   "display_name": "Python 3",
   "language": "python",
   "name": "python3"
  },
  "language_info": {
   "codemirror_mode": {
    "name": "ipython",
    "version": 3
   },
   "file_extension": ".py",
   "mimetype": "text/x-python",
   "name": "python",
   "nbconvert_exporter": "python",
   "pygments_lexer": "ipython3",
   "version": "3.6.0"
  }
 },
 "nbformat": 4,
 "nbformat_minor": 2
}
